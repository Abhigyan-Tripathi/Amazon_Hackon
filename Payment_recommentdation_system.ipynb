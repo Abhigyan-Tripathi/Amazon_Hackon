{
 "cells": [
  {
   "cell_type": "markdown",
   "id": "cb4f9f80-1869-4f26-8bbd-c5cd1d737957",
   "metadata": {},
   "source": [
    "## Import the required libraries"
   ]
  },
  {
   "cell_type": "code",
   "execution_count": 5,
   "id": "e33f4c6d-0082-4f0e-8e30-c70b17ca7758",
   "metadata": {},
   "outputs": [],
   "source": [
    "from surprise import Reader, Dataset, SVDpp"
   ]
  },
  {
   "cell_type": "code",
   "execution_count": 6,
   "id": "afdaa4b6-95ba-4cd4-955b-dbcf41da92df",
   "metadata": {},
   "outputs": [],
   "source": [
    "from sklearn.model_selection import GridSearchCV"
   ]
  },
  {
   "cell_type": "code",
   "execution_count": 7,
   "id": "285e7a84-2229-4c2c-b8f6-bbaffc1170de",
   "metadata": {},
   "outputs": [],
   "source": [
    "from surprise.model_selection import cross_validate"
   ]
  },
  {
   "cell_type": "markdown",
   "id": "4dacbb09-0a78-47b3-bfc1-3d55d243fcbc",
   "metadata": {},
   "source": [
    "## Connect to Postgresql to integrate payment history"
   ]
  },
  {
   "cell_type": "code",
   "execution_count": 8,
   "id": "178f2ebd-7315-42f3-a4d4-b06b85b75cba",
   "metadata": {},
   "outputs": [],
   "source": [
    "import psycopg2\n",
    "conn = psycopg2.connect(dbname='postgres', user='postgres', password='postgres123', host='localhost')"
   ]
  },
  {
   "cell_type": "markdown",
   "id": "1c74c090-0f1e-4862-a8fd-4ac42842a5e9",
   "metadata": {},
   "source": [
    "## Function to get customer transaction data"
   ]
  },
  {
   "cell_type": "code",
   "execution_count": 10,
   "id": "5f02c45b-06d1-4e15-b59a-c879b0596344",
   "metadata": {},
   "outputs": [],
   "source": [
    "def get_customer_data(customer_id):\n",
    "    cursor = conn.cursor()\n",
    "    cursor.execute(f\"\"\"\n",
    "        SELECT payment_method, success, cashback_amount\n",
    "        FROM payment_history\n",
    "        WHERE customer_id = {customer_id}\n",
    "    \"\"\")\n",
    "    data = cursor.fetchall()\n",
    "    cursor.close()\n",
    "    for row in data:\n",
    "        yield (row[0], 'dummy', row[1], row[2])  \n",
    "    return"
   ]
  },
  {
   "cell_type": "markdown",
   "id": "2486ba5b-a830-4d21-bec8-2385e24a4869",
   "metadata": {},
   "source": [
    "## Load Data from Database"
   ]
  },
  {
   "cell_type": "code",
   "execution_count": 17,
   "id": "2bd233c4-d53a-4cf4-816f-15a2521ae68e",
   "metadata": {},
   "outputs": [
    {
     "ename": "SyntaxError",
     "evalue": "incomplete input (3642395857.py, line 3)",
     "output_type": "error",
     "traceback": [
      "\u001b[0;36m  Cell \u001b[0;32mIn[17], line 3\u001b[0;36m\u001b[0m\n\u001b[0;31m    ## since the database is currently empty\u001b[0m\n\u001b[0m                                            ^\u001b[0m\n\u001b[0;31mSyntaxError\u001b[0m\u001b[0;31m:\u001b[0m incomplete input\n"
     ]
    }
   ],
   "source": [
    "reader = Reader(rating_scale=(0, 1))  \n",
    "data = Dataset.from_reader(reader,get_customer_data(target_customer_id)\n",
    "## since the database is currently empty we are getting this error"
   ]
  },
  {
   "cell_type": "markdown",
   "id": "d72f0846-bb49-4546-9098-e370a0e1f402",
   "metadata": {},
   "source": [
    "## Training the model "
   ]
  },
  {
   "cell_type": "code",
   "execution_count": 18,
   "id": "c9198ced-a6d1-4224-b220-ef8a2533dd6f",
   "metadata": {},
   "outputs": [
    {
     "ename": "NameError",
     "evalue": "name 'data' is not defined",
     "output_type": "error",
     "traceback": [
      "\u001b[0;31m---------------------------------------------------------------------------\u001b[0m",
      "\u001b[0;31mNameError\u001b[0m                                 Traceback (most recent call last)",
      "Cell \u001b[0;32mIn[18], line 3\u001b[0m\n\u001b[1;32m      1\u001b[0m \u001b[38;5;66;03m# We will b using the Singular Vqalue Decomposition algo in our model\u001b[39;00m\n\u001b[1;32m      2\u001b[0m algo \u001b[38;5;241m=\u001b[39m SVD()\n\u001b[0;32m----> 3\u001b[0m trainset \u001b[38;5;241m=\u001b[39m \u001b[43mdata\u001b[49m\u001b[38;5;241m.\u001b[39mbuild_full_trainset()\n\u001b[1;32m      4\u001b[0m algo\u001b[38;5;241m.\u001b[39mfit(trainset)\n",
      "\u001b[0;31mNameError\u001b[0m: name 'data' is not defined"
     ]
    }
   ],
   "source": [
    "# We will b using the Singular Vqalue Decomposition algo in our model\n",
    "algo = SVD()\n",
    "trainset = data.build_full_trainset()\n",
    "algo.fit(trainset)"
   ]
  },
  {
   "cell_type": "markdown",
   "id": "1d704970-deee-4196-aa47-5a560245fb96",
   "metadata": {},
   "source": [
    "## Function to recommend the best payment method"
   ]
  },
  {
   "cell_type": "code",
   "execution_count": 20,
   "id": "e58bf715-3e30-446d-9d58-94411258d289",
   "metadata": {},
   "outputs": [],
   "source": [
    "def recommend_payment(customer_id, num_recommendations=5):\n",
    "    predictions = algo.predict(customer_id, None, rating_scale=(0, 1))\n",
    "    top_recs = sorted(predictions, key=lambda x: x.est, reverse=True)[:num_recommendations]\n",
    "    return [pred.sid for pred in top_recs]"
   ]
  },
  {
   "cell_type": "code",
   "execution_count": null,
   "id": "981d2745-add6-4266-aa38-5eef83cf848b",
   "metadata": {},
   "outputs": [],
   "source": []
  }
 ],
 "metadata": {
  "kernelspec": {
   "display_name": "myenv",
   "language": "python",
   "name": "myenv"
  },
  "language_info": {
   "codemirror_mode": {
    "name": "ipython",
    "version": 3
   },
   "file_extension": ".py",
   "mimetype": "text/x-python",
   "name": "python",
   "nbconvert_exporter": "python",
   "pygments_lexer": "ipython3",
   "version": "3.11.4"
  }
 },
 "nbformat": 4,
 "nbformat_minor": 5
}
